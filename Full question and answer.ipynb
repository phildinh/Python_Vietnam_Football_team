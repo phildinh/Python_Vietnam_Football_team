{
  "cells": [
    {
      "cell_type": "markdown",
      "metadata": {
        "id": "PJd2HaNDzDn5"
      },
      "source": [
        "# Introduce\n",
        "In this article, we will perform some analysis on the performance data of the Vietnam National Team from 2010 - 2019 (only counting official matches within the framework of FIFA)."
      ]
    },
    {
      "cell_type": "markdown",
      "metadata": {
        "id": "SOFd-NeRzcfX"
      },
      "source": [
        "#Data\n",
        "Data for this article is taken from [wiki page](https://en.wikipedia.org/wiki/Vietnam_national_football_team_results)\n",
        "\n",
        "Data includes columns:\n",
        "- `date` : date of the match.\n",
        "- `opponent`: opponent of the Vietnamese team.\n",
        "- `score`: match score (only counted within 90 minutes of official competition). The number of goals scored by the Vietnamese team is always written first.\n",
        "- `venue`: venue for the match.\n",
        "- `venue_type` : position of Vietnam Team\n",
        "     - `H`: kick at home.\n",
        "     - `A`: away match.\n",
        "     - `N`: kick on neutral ground.\n",
        "- `competition`: tournament in which the Vietnamese Team participates."
      ]
    },
    {
      "cell_type": "markdown",
      "metadata": {
        "id": "E0VeYIKm1j0w"
      },
      "source": [
        "# Exercise"
      ]
    },
    {
      "cell_type": "markdown",
      "metadata": {
        "id": "iTQJ33kC1mry"
      },
      "source": [
        "**Question 1** : Read data into `DataFrame`."
      ]
    },
    {
      "cell_type": "code",
      "execution_count": 1,
      "metadata": {
        "colab": {
          "base_uri": "https://localhost:8080/",
          "height": 423
        },
        "id": "atfWBNCpy4YO",
        "outputId": "b9a671ba-5449-48fc-9dc3-3618a390bba0"
      },
      "outputs": [
        {
          "data": {
            "text/html": [
              "<div>\n",
              "<style scoped>\n",
              "    .dataframe tbody tr th:only-of-type {\n",
              "        vertical-align: middle;\n",
              "    }\n",
              "\n",
              "    .dataframe tbody tr th {\n",
              "        vertical-align: top;\n",
              "    }\n",
              "\n",
              "    .dataframe thead th {\n",
              "        text-align: right;\n",
              "    }\n",
              "</style>\n",
              "<table border=\"1\" class=\"dataframe\">\n",
              "  <thead>\n",
              "    <tr style=\"text-align: right;\">\n",
              "      <th></th>\n",
              "      <th>date</th>\n",
              "      <th>opponent</th>\n",
              "      <th>score</th>\n",
              "      <th>venue</th>\n",
              "      <th>competition</th>\n",
              "      <th>venue_type</th>\n",
              "    </tr>\n",
              "  </thead>\n",
              "  <tbody>\n",
              "    <tr>\n",
              "      <th>0</th>\n",
              "      <td>2010-01-06</td>\n",
              "      <td>Lebanon</td>\n",
              "      <td>1-1</td>\n",
              "      <td>Saida International Stadium, Saida</td>\n",
              "      <td>2011 AFC Asian Cup qualification</td>\n",
              "      <td>A</td>\n",
              "    </tr>\n",
              "    <tr>\n",
              "      <th>1</th>\n",
              "      <td>2010-01-17</td>\n",
              "      <td>China PR</td>\n",
              "      <td>1-2</td>\n",
              "      <td>Mỹ Đình National Stadium, Hanoi</td>\n",
              "      <td>2011 AFC Asian Cup qualification</td>\n",
              "      <td>H</td>\n",
              "    </tr>\n",
              "    <tr>\n",
              "      <th>2</th>\n",
              "      <td>2010-09-20</td>\n",
              "      <td>Kuwait</td>\n",
              "      <td>3-0</td>\n",
              "      <td>Mỹ Đình National Stadium, Hanoi</td>\n",
              "      <td>2010 Millennial Anniversary of Hanoi Football ...</td>\n",
              "      <td>H</td>\n",
              "    </tr>\n",
              "    <tr>\n",
              "      <th>3</th>\n",
              "      <td>2010-09-22</td>\n",
              "      <td>Australia</td>\n",
              "      <td>0-2</td>\n",
              "      <td>Mỹ Đình National Stadium, Hanoi</td>\n",
              "      <td>2010 Millennial Anniversary of Hanoi Football ...</td>\n",
              "      <td>H</td>\n",
              "    </tr>\n",
              "    <tr>\n",
              "      <th>4</th>\n",
              "      <td>2010-09-24</td>\n",
              "      <td>North Korea</td>\n",
              "      <td>0-0</td>\n",
              "      <td>Mỹ Đình National Stadium, Hanoi</td>\n",
              "      <td>2010 Millennial Anniversary of Hanoi Football ...</td>\n",
              "      <td>H</td>\n",
              "    </tr>\n",
              "    <tr>\n",
              "      <th>...</th>\n",
              "      <td>...</td>\n",
              "      <td>...</td>\n",
              "      <td>...</td>\n",
              "      <td>...</td>\n",
              "      <td>...</td>\n",
              "      <td>...</td>\n",
              "    </tr>\n",
              "    <tr>\n",
              "      <th>90</th>\n",
              "      <td>2019-09-05</td>\n",
              "      <td>Thailand</td>\n",
              "      <td>0-0</td>\n",
              "      <td>Thammasat Stadium, Pathum Thani</td>\n",
              "      <td>2022 FIFA World Cup qualification - AFC Second...</td>\n",
              "      <td>A</td>\n",
              "    </tr>\n",
              "    <tr>\n",
              "      <th>91</th>\n",
              "      <td>2019-10-10</td>\n",
              "      <td>Malaysia</td>\n",
              "      <td>1-0</td>\n",
              "      <td>Mỹ Đình National Stadium, Hanoi</td>\n",
              "      <td>2022 FIFA World Cup qualification - AFC Second...</td>\n",
              "      <td>H</td>\n",
              "    </tr>\n",
              "    <tr>\n",
              "      <th>92</th>\n",
              "      <td>2019-10-15</td>\n",
              "      <td>Indonesia</td>\n",
              "      <td>3-1</td>\n",
              "      <td>Kapten I Wayan Dipta Stadium, Gianyar</td>\n",
              "      <td>2022 FIFA World Cup qualification - AFC Second...</td>\n",
              "      <td>A</td>\n",
              "    </tr>\n",
              "    <tr>\n",
              "      <th>93</th>\n",
              "      <td>2019-11-14</td>\n",
              "      <td>United Arab Emirates</td>\n",
              "      <td>1-0</td>\n",
              "      <td>Mỹ Đình National Stadium, Hanoi</td>\n",
              "      <td>2022 FIFA World Cup qualification - AFC Second...</td>\n",
              "      <td>H</td>\n",
              "    </tr>\n",
              "    <tr>\n",
              "      <th>94</th>\n",
              "      <td>2019-11-19</td>\n",
              "      <td>Thailand</td>\n",
              "      <td>0-0</td>\n",
              "      <td>Mỹ Đình National Stadium, Hanoi</td>\n",
              "      <td>2022 FIFA World Cup qualification - AFC Second...</td>\n",
              "      <td>H</td>\n",
              "    </tr>\n",
              "  </tbody>\n",
              "</table>\n",
              "<p>95 rows × 6 columns</p>\n",
              "</div>"
            ],
            "text/plain": [
              "          date              opponent score  \\\n",
              "0   2010-01-06               Lebanon   1-1   \n",
              "1   2010-01-17              China PR   1-2   \n",
              "2   2010-09-20                Kuwait   3-0   \n",
              "3   2010-09-22             Australia   0-2   \n",
              "4   2010-09-24           North Korea   0-0   \n",
              "..         ...                   ...   ...   \n",
              "90  2019-09-05              Thailand   0-0   \n",
              "91  2019-10-10              Malaysia   1-0   \n",
              "92  2019-10-15             Indonesia   3-1   \n",
              "93  2019-11-14  United Arab Emirates   1-0   \n",
              "94  2019-11-19              Thailand   0-0   \n",
              "\n",
              "                                    venue  \\\n",
              "0      Saida International Stadium, Saida   \n",
              "1         Mỹ Đình National Stadium, Hanoi   \n",
              "2         Mỹ Đình National Stadium, Hanoi   \n",
              "3         Mỹ Đình National Stadium, Hanoi   \n",
              "4         Mỹ Đình National Stadium, Hanoi   \n",
              "..                                    ...   \n",
              "90        Thammasat Stadium, Pathum Thani   \n",
              "91        Mỹ Đình National Stadium, Hanoi   \n",
              "92  Kapten I Wayan Dipta Stadium, Gianyar   \n",
              "93        Mỹ Đình National Stadium, Hanoi   \n",
              "94        Mỹ Đình National Stadium, Hanoi   \n",
              "\n",
              "                                          competition venue_type  \n",
              "0                    2011 AFC Asian Cup qualification          A  \n",
              "1                    2011 AFC Asian Cup qualification          H  \n",
              "2   2010 Millennial Anniversary of Hanoi Football ...          H  \n",
              "3   2010 Millennial Anniversary of Hanoi Football ...          H  \n",
              "4   2010 Millennial Anniversary of Hanoi Football ...          H  \n",
              "..                                                ...        ...  \n",
              "90  2022 FIFA World Cup qualification - AFC Second...          A  \n",
              "91  2022 FIFA World Cup qualification - AFC Second...          H  \n",
              "92  2022 FIFA World Cup qualification - AFC Second...          A  \n",
              "93  2022 FIFA World Cup qualification - AFC Second...          H  \n",
              "94  2022 FIFA World Cup qualification - AFC Second...          H  \n",
              "\n",
              "[95 rows x 6 columns]"
            ]
          },
          "execution_count": 1,
          "metadata": {},
          "output_type": "execute_result"
        }
      ],
      "source": [
        "import pandas as pd\n",
        "data = pd.read_csv('Data.txt')\n",
        "data"
      ]
    },
    {
      "cell_type": "markdown",
      "metadata": {
        "id": "o1lN-U1o1ymq"
      },
      "source": [
        "**Question 2**: Check the data types of the columns and make the necessary conversions."
      ]
    },
    {
      "cell_type": "code",
      "execution_count": 2,
      "metadata": {
        "colab": {
          "base_uri": "https://localhost:8080/"
        },
        "id": "rO0WKvMo2DOs",
        "outputId": "ac25de2a-e7da-4885-fb25-eba070d4e8a7"
      },
      "outputs": [
        {
          "data": {
            "text/plain": [
              "date           datetime64[ns]\n",
              "opponent               object\n",
              "score                  object\n",
              "venue                  object\n",
              "competition            object\n",
              "venue_type             object\n",
              "dtype: object"
            ]
          },
          "execution_count": 2,
          "metadata": {},
          "output_type": "execute_result"
        }
      ],
      "source": [
        "data = data.assign(\n",
        "    date = pd.to_datetime(data.date)\n",
        ")\n",
        "data.dtypes"
      ]
    },
    {
      "cell_type": "markdown",
      "metadata": {
        "id": "qNFzFnM02D_0"
      },
      "source": [
        "**Question 3**: How many matches did the Vietnamese team play in the period 2010 - 2019, including how many matches were played at home, away and neutral stadiums."
      ]
    },
    {
      "cell_type": "code",
      "execution_count": null,
      "metadata": {
        "colab": {
          "base_uri": "https://localhost:8080/"
        },
        "id": "QfzoKk_52nIR",
        "outputId": "fa56228f-cf3a-404d-b5d1-598ceca59bab"
      },
      "outputs": [
        {
          "name": "stdout",
          "output_type": "stream",
          "text": [
            "Số trận đấu: 95\n",
            "Position play Việt Nam's team: A : Number of match: 41\n",
            "Position play Việt Nam's team: H : Number of match: 50\n",
            "Position play Việt Nam's team: N : Number of match: 4\n"
          ]
        }
      ],
      "source": [
        "print('Total number of match:',data.shape[0])\n",
        "venue = data.venue_type.unique()\n",
        "for name_venue in venue:\n",
        "  print('''Position play Việt Nam's team:''' , name_venue , ':' , 'Number of match:',data[data['venue_type'] == name_venue].shape[0])"
      ]
    },
    {
      "cell_type": "markdown",
      "metadata": {
        "id": "4eMA7ONKbzfk"
      },
      "source": [
        "**Question 4**: In home matches, how many different locations does the Vietnamese Team play at? Print out those locations."
      ]
    },
    {
      "cell_type": "code",
      "execution_count": 4,
      "metadata": {
        "colab": {
          "base_uri": "https://localhost:8080/"
        },
        "id": "K8tBI4B0cFi2",
        "outputId": "6124105f-dfad-4a9e-cea8-880a37b36402"
      },
      "outputs": [
        {
          "name": "stdout",
          "output_type": "stream",
          "text": [
            "Số địa điểm sân nhà : 5\n"
          ]
        },
        {
          "data": {
            "text/plain": [
              "array(['Mỹ Đình National Stadium, Hanoi',\n",
              "       'Thống Nhất Stadium, Ho Chi Minh City',\n",
              "       'Gò Đậu Stadium, Bình Dương', 'Lạch Tray Stadium, Hải Phòng',\n",
              "       'Hàng Đẫy Stadium, Hanoi'], dtype=object)"
            ]
          },
          "execution_count": 4,
          "metadata": {},
          "output_type": "execute_result"
        }
      ],
      "source": [
        "place_H = data[data['venue_type'] == 'H']\n",
        "print('Số địa điểm sân nhà :', place_H.venue.nunique())\n",
        "place_H.venue.unique()"
      ]
    },
    {
      "cell_type": "markdown",
      "metadata": {
        "id": "ldILiLfu2pK5"
      },
      "source": [
        "**Question 5**: On average, how many matches does the Vietnamese team play each year?"
      ]
    },
    {
      "cell_type": "code",
      "execution_count": 6,
      "metadata": {
        "colab": {
          "base_uri": "https://localhost:8080/"
        },
        "id": "vTD3I19329w8",
        "outputId": "946cca04-3f0c-4aa5-eec6-32fe92c21fc0"
      },
      "outputs": [
        {
          "name": "stdout",
          "output_type": "stream",
          "text": [
            "Average number of match each year: 9.5\n"
          ]
        }
      ],
      "source": [
        "year_play = data.date.dt.year.nunique()\n",
        "print('Average number of match each year:', data.shape[0] / year_play)"
      ]
    },
    {
      "cell_type": "markdown",
      "metadata": {
        "id": "qq7gFZWi2-ug"
      },
      "source": [
        "**Question 6**: Print out the number of matches the Vietnamese team played in 2015."
      ]
    },
    {
      "cell_type": "code",
      "execution_count": 7,
      "metadata": {
        "colab": {
          "base_uri": "https://localhost:8080/"
        },
        "id": "TEZVo3m13JDY",
        "outputId": "4f273306-fd63-49ec-8d59-43af0cf2a14f"
      },
      "outputs": [
        {
          "name": "stdout",
          "output_type": "stream",
          "text": [
            "Number of match took place in 2015: 5\n"
          ]
        }
      ],
      "source": [
        "print('Number of match took place in 2015:',data[data['date'].dt.year == 2015].shape[0])"
      ]
    },
    {
      "cell_type": "markdown",
      "metadata": {
        "id": "PAY9ZZ9VWhQ0"
      },
      "source": [
        "**Question 7**: From the `score` column, create two new columns:\n",
        "- `goal`: number of goals scored by the Vietnamese team.\n",
        "- `conceded_goal`: number of goals conceded by the Vietnamese Team.\n",
        "\n",
        "---\n",
        "_Hint_: use `.str.split('-')` to split the string from `score`."
      ]
    },
    {
      "cell_type": "code",
      "execution_count": 8,
      "metadata": {
        "colab": {
          "base_uri": "https://localhost:8080/",
          "height": 467
        },
        "id": "cz124Qj8XOU_",
        "outputId": "5d87952f-a83f-4de9-bff6-22b955111f58"
      },
      "outputs": [
        {
          "data": {
            "text/html": [
              "<div>\n",
              "<style scoped>\n",
              "    .dataframe tbody tr th:only-of-type {\n",
              "        vertical-align: middle;\n",
              "    }\n",
              "\n",
              "    .dataframe tbody tr th {\n",
              "        vertical-align: top;\n",
              "    }\n",
              "\n",
              "    .dataframe thead th {\n",
              "        text-align: right;\n",
              "    }\n",
              "</style>\n",
              "<table border=\"1\" class=\"dataframe\">\n",
              "  <thead>\n",
              "    <tr style=\"text-align: right;\">\n",
              "      <th></th>\n",
              "      <th>date</th>\n",
              "      <th>opponent</th>\n",
              "      <th>score</th>\n",
              "      <th>venue</th>\n",
              "      <th>competition</th>\n",
              "      <th>venue_type</th>\n",
              "      <th>goal</th>\n",
              "      <th>conceded_goal</th>\n",
              "    </tr>\n",
              "  </thead>\n",
              "  <tbody>\n",
              "    <tr>\n",
              "      <th>0</th>\n",
              "      <td>2010-01-06</td>\n",
              "      <td>Lebanon</td>\n",
              "      <td>1-1</td>\n",
              "      <td>Saida International Stadium, Saida</td>\n",
              "      <td>2011 AFC Asian Cup qualification</td>\n",
              "      <td>A</td>\n",
              "      <td>1</td>\n",
              "      <td>1</td>\n",
              "    </tr>\n",
              "    <tr>\n",
              "      <th>1</th>\n",
              "      <td>2010-01-17</td>\n",
              "      <td>China PR</td>\n",
              "      <td>1-2</td>\n",
              "      <td>Mỹ Đình National Stadium, Hanoi</td>\n",
              "      <td>2011 AFC Asian Cup qualification</td>\n",
              "      <td>H</td>\n",
              "      <td>1</td>\n",
              "      <td>2</td>\n",
              "    </tr>\n",
              "    <tr>\n",
              "      <th>2</th>\n",
              "      <td>2010-09-20</td>\n",
              "      <td>Kuwait</td>\n",
              "      <td>3-0</td>\n",
              "      <td>Mỹ Đình National Stadium, Hanoi</td>\n",
              "      <td>2010 Millennial Anniversary of Hanoi Football ...</td>\n",
              "      <td>H</td>\n",
              "      <td>3</td>\n",
              "      <td>0</td>\n",
              "    </tr>\n",
              "    <tr>\n",
              "      <th>3</th>\n",
              "      <td>2010-09-22</td>\n",
              "      <td>Australia</td>\n",
              "      <td>0-2</td>\n",
              "      <td>Mỹ Đình National Stadium, Hanoi</td>\n",
              "      <td>2010 Millennial Anniversary of Hanoi Football ...</td>\n",
              "      <td>H</td>\n",
              "      <td>0</td>\n",
              "      <td>2</td>\n",
              "    </tr>\n",
              "    <tr>\n",
              "      <th>4</th>\n",
              "      <td>2010-09-24</td>\n",
              "      <td>North Korea</td>\n",
              "      <td>0-0</td>\n",
              "      <td>Mỹ Đình National Stadium, Hanoi</td>\n",
              "      <td>2010 Millennial Anniversary of Hanoi Football ...</td>\n",
              "      <td>H</td>\n",
              "      <td>0</td>\n",
              "      <td>0</td>\n",
              "    </tr>\n",
              "    <tr>\n",
              "      <th>...</th>\n",
              "      <td>...</td>\n",
              "      <td>...</td>\n",
              "      <td>...</td>\n",
              "      <td>...</td>\n",
              "      <td>...</td>\n",
              "      <td>...</td>\n",
              "      <td>...</td>\n",
              "      <td>...</td>\n",
              "    </tr>\n",
              "    <tr>\n",
              "      <th>90</th>\n",
              "      <td>2019-09-05</td>\n",
              "      <td>Thailand</td>\n",
              "      <td>0-0</td>\n",
              "      <td>Thammasat Stadium, Pathum Thani</td>\n",
              "      <td>2022 FIFA World Cup qualification - AFC Second...</td>\n",
              "      <td>A</td>\n",
              "      <td>0</td>\n",
              "      <td>0</td>\n",
              "    </tr>\n",
              "    <tr>\n",
              "      <th>91</th>\n",
              "      <td>2019-10-10</td>\n",
              "      <td>Malaysia</td>\n",
              "      <td>1-0</td>\n",
              "      <td>Mỹ Đình National Stadium, Hanoi</td>\n",
              "      <td>2022 FIFA World Cup qualification - AFC Second...</td>\n",
              "      <td>H</td>\n",
              "      <td>1</td>\n",
              "      <td>0</td>\n",
              "    </tr>\n",
              "    <tr>\n",
              "      <th>92</th>\n",
              "      <td>2019-10-15</td>\n",
              "      <td>Indonesia</td>\n",
              "      <td>3-1</td>\n",
              "      <td>Kapten I Wayan Dipta Stadium, Gianyar</td>\n",
              "      <td>2022 FIFA World Cup qualification - AFC Second...</td>\n",
              "      <td>A</td>\n",
              "      <td>3</td>\n",
              "      <td>1</td>\n",
              "    </tr>\n",
              "    <tr>\n",
              "      <th>93</th>\n",
              "      <td>2019-11-14</td>\n",
              "      <td>United Arab Emirates</td>\n",
              "      <td>1-0</td>\n",
              "      <td>Mỹ Đình National Stadium, Hanoi</td>\n",
              "      <td>2022 FIFA World Cup qualification - AFC Second...</td>\n",
              "      <td>H</td>\n",
              "      <td>1</td>\n",
              "      <td>0</td>\n",
              "    </tr>\n",
              "    <tr>\n",
              "      <th>94</th>\n",
              "      <td>2019-11-19</td>\n",
              "      <td>Thailand</td>\n",
              "      <td>0-0</td>\n",
              "      <td>Mỹ Đình National Stadium, Hanoi</td>\n",
              "      <td>2022 FIFA World Cup qualification - AFC Second...</td>\n",
              "      <td>H</td>\n",
              "      <td>0</td>\n",
              "      <td>0</td>\n",
              "    </tr>\n",
              "  </tbody>\n",
              "</table>\n",
              "<p>95 rows × 8 columns</p>\n",
              "</div>"
            ],
            "text/plain": [
              "         date              opponent score  \\\n",
              "0  2010-01-06               Lebanon   1-1   \n",
              "1  2010-01-17              China PR   1-2   \n",
              "2  2010-09-20                Kuwait   3-0   \n",
              "3  2010-09-22             Australia   0-2   \n",
              "4  2010-09-24           North Korea   0-0   \n",
              "..        ...                   ...   ...   \n",
              "90 2019-09-05              Thailand   0-0   \n",
              "91 2019-10-10              Malaysia   1-0   \n",
              "92 2019-10-15             Indonesia   3-1   \n",
              "93 2019-11-14  United Arab Emirates   1-0   \n",
              "94 2019-11-19              Thailand   0-0   \n",
              "\n",
              "                                    venue  \\\n",
              "0      Saida International Stadium, Saida   \n",
              "1         Mỹ Đình National Stadium, Hanoi   \n",
              "2         Mỹ Đình National Stadium, Hanoi   \n",
              "3         Mỹ Đình National Stadium, Hanoi   \n",
              "4         Mỹ Đình National Stadium, Hanoi   \n",
              "..                                    ...   \n",
              "90        Thammasat Stadium, Pathum Thani   \n",
              "91        Mỹ Đình National Stadium, Hanoi   \n",
              "92  Kapten I Wayan Dipta Stadium, Gianyar   \n",
              "93        Mỹ Đình National Stadium, Hanoi   \n",
              "94        Mỹ Đình National Stadium, Hanoi   \n",
              "\n",
              "                                          competition venue_type goal  \\\n",
              "0                    2011 AFC Asian Cup qualification          A    1   \n",
              "1                    2011 AFC Asian Cup qualification          H    1   \n",
              "2   2010 Millennial Anniversary of Hanoi Football ...          H    3   \n",
              "3   2010 Millennial Anniversary of Hanoi Football ...          H    0   \n",
              "4   2010 Millennial Anniversary of Hanoi Football ...          H    0   \n",
              "..                                                ...        ...  ...   \n",
              "90  2022 FIFA World Cup qualification - AFC Second...          A    0   \n",
              "91  2022 FIFA World Cup qualification - AFC Second...          H    1   \n",
              "92  2022 FIFA World Cup qualification - AFC Second...          A    3   \n",
              "93  2022 FIFA World Cup qualification - AFC Second...          H    1   \n",
              "94  2022 FIFA World Cup qualification - AFC Second...          H    0   \n",
              "\n",
              "   conceded_goal  \n",
              "0              1  \n",
              "1              2  \n",
              "2              0  \n",
              "3              2  \n",
              "4              0  \n",
              "..           ...  \n",
              "90             0  \n",
              "91             0  \n",
              "92             1  \n",
              "93             0  \n",
              "94             0  \n",
              "\n",
              "[95 rows x 8 columns]"
            ]
          },
          "execution_count": 8,
          "metadata": {},
          "output_type": "execute_result"
        }
      ],
      "source": [
        "score = data['score']\n",
        "goal = []\n",
        "conceded_goal = []\n",
        "for macth in score:\n",
        "  goal.append(macth[:1])\n",
        "  conceded_goal.append(macth[2:])\n",
        "data = data.assign(\n",
        "    goal = goal,\n",
        "    conceded_goal = conceded_goal\n",
        ")\n",
        "data"
      ]
    },
    {
      "cell_type": "markdown",
      "metadata": {
        "id": "G2R-61yoXToO"
      },
      "source": [
        "**Question 8**: Print out the matches in which the Vietnamese team scored the most goals?"
      ]
    },
    {
      "cell_type": "code",
      "execution_count": 9,
      "metadata": {
        "colab": {
          "base_uri": "https://localhost:8080/",
          "height": 112
        },
        "id": "WFXKGcKYXd8F",
        "outputId": "91887ba4-9a6f-4409-c49a-85902673eda9"
      },
      "outputs": [
        {
          "data": {
            "text/html": [
              "<div>\n",
              "<style scoped>\n",
              "    .dataframe tbody tr th:only-of-type {\n",
              "        vertical-align: middle;\n",
              "    }\n",
              "\n",
              "    .dataframe tbody tr th {\n",
              "        vertical-align: top;\n",
              "    }\n",
              "\n",
              "    .dataframe thead th {\n",
              "        text-align: right;\n",
              "    }\n",
              "</style>\n",
              "<table border=\"1\" class=\"dataframe\">\n",
              "  <thead>\n",
              "    <tr style=\"text-align: right;\">\n",
              "      <th></th>\n",
              "      <th>date</th>\n",
              "      <th>opponent</th>\n",
              "      <th>score</th>\n",
              "      <th>venue</th>\n",
              "      <th>competition</th>\n",
              "      <th>venue_type</th>\n",
              "      <th>goal</th>\n",
              "      <th>conceded_goal</th>\n",
              "    </tr>\n",
              "  </thead>\n",
              "  <tbody>\n",
              "    <tr>\n",
              "      <th>10</th>\n",
              "      <td>2010-12-02</td>\n",
              "      <td>Myanmar</td>\n",
              "      <td>7-1</td>\n",
              "      <td>Mỹ Đình National Stadium, Hanoi</td>\n",
              "      <td>2010 AFF Championship</td>\n",
              "      <td>H</td>\n",
              "      <td>7</td>\n",
              "      <td>1</td>\n",
              "    </tr>\n",
              "    <tr>\n",
              "      <th>16</th>\n",
              "      <td>2011-07-03</td>\n",
              "      <td>Macau</td>\n",
              "      <td>7-1</td>\n",
              "      <td>Estádio Campo Desportivo, Taipa</td>\n",
              "      <td>2014 FIFA World Cup qualification - AFC First ...</td>\n",
              "      <td>A</td>\n",
              "      <td>7</td>\n",
              "      <td>1</td>\n",
              "    </tr>\n",
              "  </tbody>\n",
              "</table>\n",
              "</div>"
            ],
            "text/plain": [
              "         date opponent score                            venue  \\\n",
              "10 2010-12-02  Myanmar   7-1  Mỹ Đình National Stadium, Hanoi   \n",
              "16 2011-07-03    Macau   7-1  Estádio Campo Desportivo, Taipa   \n",
              "\n",
              "                                          competition venue_type goal  \\\n",
              "10                              2010 AFF Championship          H    7   \n",
              "16  2014 FIFA World Cup qualification - AFC First ...          A    7   \n",
              "\n",
              "   conceded_goal  \n",
              "10             1  \n",
              "16             1  "
            ]
          },
          "execution_count": 9,
          "metadata": {},
          "output_type": "execute_result"
        }
      ],
      "source": [
        "max_goal = data.goal.max()\n",
        "data[data['goal'] == max_goal]"
      ]
    },
    {
      "cell_type": "markdown",
      "metadata": {
        "id": "wY0dhqTvXfD7"
      },
      "source": [
        "**Question 9**: Calculate the average number of goals scored by the Vietnamese team. (Number of goals # Number of wins)"
      ]
    },
    {
      "cell_type": "code",
      "execution_count": 10,
      "metadata": {
        "colab": {
          "base_uri": "https://localhost:8080/"
        },
        "id": "cMhtVsa_XuQo",
        "outputId": "eab69208-8eea-4fac-d080-6b499cc3988e"
      },
      "outputs": [
        {
          "name": "stdout",
          "output_type": "stream",
          "text": [
            "Số trận trung bình: 1.5473684210526315\n"
          ]
        }
      ],
      "source": [
        "data = data.assign(\n",
        "    goal = pd.to_numeric(goal),\n",
        "    conceded_goal = pd.to_numeric(conceded_goal)\n",
        ")\n",
        "mean_goal = data.goal.mean()\n",
        "print('Số trận trung bình:' ,mean_goal)"
      ]
    },
    {
      "cell_type": "markdown",
      "metadata": {
        "id": "8WjverVxXvDj"
      },
      "source": [
        "**Question 10**: Calculate the winning rate of the Vietnamese Team."
      ]
    },
    {
      "cell_type": "code",
      "execution_count": 12,
      "metadata": {
        "colab": {
          "base_uri": "https://localhost:8080/"
        },
        "id": "V-WCvzV0X2vY",
        "outputId": "d21ebe3f-a044-4502-864d-ae732d94557d"
      },
      "outputs": [
        {
          "name": "stdout",
          "output_type": "stream",
          "text": [
            "Win rate: 43.1578947368421\n"
          ]
        }
      ],
      "source": [
        "win = 0\n",
        "for macth in range(data.shape[0]):\n",
        "  if data.iloc[macth].goal > data.iloc[macth].conceded_goal:\n",
        "    win = win + 1\n",
        "print('Win rate:' ,(100/data.shape[0])*win)"
      ]
    },
    {
      "cell_type": "markdown",
      "metadata": {
        "id": "PYTaTwE_YBI-"
      },
      "source": [
        "**Question 11**: Select friendly matches during the above period. Know that friendly matches are recorded as `'Friendly'` in `competition`."
      ]
    },
    {
      "cell_type": "code",
      "execution_count": 13,
      "metadata": {
        "colab": {
          "base_uri": "https://localhost:8080/",
          "height": 739
        },
        "id": "wz5-w_lcZvnm",
        "outputId": "0a1b1fd3-b151-46e8-a3b7-e70caa903db2"
      },
      "outputs": [
        {
          "data": {
            "text/html": [
              "<div>\n",
              "<style scoped>\n",
              "    .dataframe tbody tr th:only-of-type {\n",
              "        vertical-align: middle;\n",
              "    }\n",
              "\n",
              "    .dataframe tbody tr th {\n",
              "        vertical-align: top;\n",
              "    }\n",
              "\n",
              "    .dataframe thead th {\n",
              "        text-align: right;\n",
              "    }\n",
              "</style>\n",
              "<table border=\"1\" class=\"dataframe\">\n",
              "  <thead>\n",
              "    <tr style=\"text-align: right;\">\n",
              "      <th></th>\n",
              "      <th>date</th>\n",
              "      <th>opponent</th>\n",
              "      <th>score</th>\n",
              "      <th>venue</th>\n",
              "      <th>competition</th>\n",
              "      <th>venue_type</th>\n",
              "      <th>goal</th>\n",
              "      <th>conceded_goal</th>\n",
              "    </tr>\n",
              "  </thead>\n",
              "  <tbody>\n",
              "    <tr>\n",
              "      <th>5</th>\n",
              "      <td>2010-10-08</td>\n",
              "      <td>India</td>\n",
              "      <td>1-3</td>\n",
              "      <td>India</td>\n",
              "      <td>Friendly</td>\n",
              "      <td>A</td>\n",
              "      <td>1</td>\n",
              "      <td>3</td>\n",
              "    </tr>\n",
              "    <tr>\n",
              "      <th>6</th>\n",
              "      <td>2010-10-12</td>\n",
              "      <td>Kuwait</td>\n",
              "      <td>1-3</td>\n",
              "      <td>Jaber Al-Ahmad International Stadium, Kuwait City</td>\n",
              "      <td>Friendly</td>\n",
              "      <td>A</td>\n",
              "      <td>1</td>\n",
              "      <td>3</td>\n",
              "    </tr>\n",
              "    <tr>\n",
              "      <th>19</th>\n",
              "      <td>2011-10-07</td>\n",
              "      <td>Japan</td>\n",
              "      <td>0-1</td>\n",
              "      <td>Japan</td>\n",
              "      <td>Friendly</td>\n",
              "      <td>A</td>\n",
              "      <td>0</td>\n",
              "      <td>1</td>\n",
              "    </tr>\n",
              "    <tr>\n",
              "      <th>20</th>\n",
              "      <td>2012-06-08</td>\n",
              "      <td>China PR</td>\n",
              "      <td>0-3</td>\n",
              "      <td>Wuhan Sports Centre Stadium, Wuhan</td>\n",
              "      <td>Friendly</td>\n",
              "      <td>A</td>\n",
              "      <td>0</td>\n",
              "      <td>3</td>\n",
              "    </tr>\n",
              "    <tr>\n",
              "      <th>21</th>\n",
              "      <td>2012-06-10</td>\n",
              "      <td>Hong Kong</td>\n",
              "      <td>2-1</td>\n",
              "      <td>Mong Kok Stadium, Kowloon</td>\n",
              "      <td>Friendly</td>\n",
              "      <td>A</td>\n",
              "      <td>2</td>\n",
              "      <td>1</td>\n",
              "    </tr>\n",
              "    <tr>\n",
              "      <th>22</th>\n",
              "      <td>2012-06-23</td>\n",
              "      <td>Mozambique</td>\n",
              "      <td>1-0</td>\n",
              "      <td>Thống Nhất Stadium, Ho Chi Minh City</td>\n",
              "      <td>Friendly</td>\n",
              "      <td>H</td>\n",
              "      <td>1</td>\n",
              "      <td>0</td>\n",
              "    </tr>\n",
              "    <tr>\n",
              "      <th>23</th>\n",
              "      <td>2012-09-11</td>\n",
              "      <td>Malaysia</td>\n",
              "      <td>2-0</td>\n",
              "      <td>Shah Alam Stadium, Shah Alam</td>\n",
              "      <td>Friendly</td>\n",
              "      <td>A</td>\n",
              "      <td>2</td>\n",
              "      <td>0</td>\n",
              "    </tr>\n",
              "    <tr>\n",
              "      <th>24</th>\n",
              "      <td>2012-09-15</td>\n",
              "      <td>Indonesia</td>\n",
              "      <td>0-0</td>\n",
              "      <td>Gelora Bung Tomo Stadium, Surabaya</td>\n",
              "      <td>Friendly</td>\n",
              "      <td>A</td>\n",
              "      <td>0</td>\n",
              "      <td>0</td>\n",
              "    </tr>\n",
              "    <tr>\n",
              "      <th>25</th>\n",
              "      <td>2012-10-16</td>\n",
              "      <td>Indonesia</td>\n",
              "      <td>0-0</td>\n",
              "      <td>Mỹ Đình National Stadium, Hanoi</td>\n",
              "      <td>Friendly</td>\n",
              "      <td>H</td>\n",
              "      <td>0</td>\n",
              "      <td>0</td>\n",
              "    </tr>\n",
              "    <tr>\n",
              "      <th>29</th>\n",
              "      <td>2012-11-03</td>\n",
              "      <td>Malaysia</td>\n",
              "      <td>1-0</td>\n",
              "      <td>Mỹ Đình National Stadium, Hanoi</td>\n",
              "      <td>Friendly</td>\n",
              "      <td>H</td>\n",
              "      <td>1</td>\n",
              "      <td>0</td>\n",
              "    </tr>\n",
              "    <tr>\n",
              "      <th>35</th>\n",
              "      <td>2013-10-09</td>\n",
              "      <td>Qatar</td>\n",
              "      <td>2-1</td>\n",
              "      <td>Thani bin Jassim Stadium, Doha</td>\n",
              "      <td>Friendly</td>\n",
              "      <td>A</td>\n",
              "      <td>2</td>\n",
              "      <td>1</td>\n",
              "    </tr>\n",
              "    <tr>\n",
              "      <th>40</th>\n",
              "      <td>2014-07-02</td>\n",
              "      <td>Myanmar</td>\n",
              "      <td>6-0</td>\n",
              "      <td>Gò Đậu Stadium, Bình Dương</td>\n",
              "      <td>Friendly</td>\n",
              "      <td>H</td>\n",
              "      <td>6</td>\n",
              "      <td>0</td>\n",
              "    </tr>\n",
              "    <tr>\n",
              "      <th>41</th>\n",
              "      <td>2014-09-06</td>\n",
              "      <td>Hong Kong</td>\n",
              "      <td>3-1</td>\n",
              "      <td>Lạch Tray Stadium, Hải Phòng</td>\n",
              "      <td>Friendly</td>\n",
              "      <td>H</td>\n",
              "      <td>3</td>\n",
              "      <td>1</td>\n",
              "    </tr>\n",
              "    <tr>\n",
              "      <th>42</th>\n",
              "      <td>2014-11-09</td>\n",
              "      <td>Palestine</td>\n",
              "      <td>1-3</td>\n",
              "      <td>Mỹ Đình National Stadium, Hanoi</td>\n",
              "      <td>Friendly</td>\n",
              "      <td>H</td>\n",
              "      <td>1</td>\n",
              "      <td>3</td>\n",
              "    </tr>\n",
              "    <tr>\n",
              "      <th>43</th>\n",
              "      <td>2014-11-16</td>\n",
              "      <td>Malaysia</td>\n",
              "      <td>3-1</td>\n",
              "      <td>Mỹ Đình National Stadium, Hanoi</td>\n",
              "      <td>Friendly</td>\n",
              "      <td>H</td>\n",
              "      <td>3</td>\n",
              "      <td>1</td>\n",
              "    </tr>\n",
              "    <tr>\n",
              "      <th>49</th>\n",
              "      <td>2015-05-17</td>\n",
              "      <td>North Korea</td>\n",
              "      <td>1-1</td>\n",
              "      <td>Mỹ Đình National Stadium, Hanoi</td>\n",
              "      <td>Friendly</td>\n",
              "      <td>H</td>\n",
              "      <td>1</td>\n",
              "      <td>1</td>\n",
              "    </tr>\n",
              "    <tr>\n",
              "      <th>56</th>\n",
              "      <td>2016-05-31</td>\n",
              "      <td>Syria</td>\n",
              "      <td>2-0</td>\n",
              "      <td>Mỹ Đình National Stadium, Hanoi</td>\n",
              "      <td>Friendly</td>\n",
              "      <td>H</td>\n",
              "      <td>2</td>\n",
              "      <td>0</td>\n",
              "    </tr>\n",
              "    <tr>\n",
              "      <th>59</th>\n",
              "      <td>2016-10-06</td>\n",
              "      <td>North Korea</td>\n",
              "      <td>5-2</td>\n",
              "      <td>Thống Nhất Stadium, Ho Chi Minh City</td>\n",
              "      <td>Friendly</td>\n",
              "      <td>H</td>\n",
              "      <td>5</td>\n",
              "      <td>2</td>\n",
              "    </tr>\n",
              "    <tr>\n",
              "      <th>60</th>\n",
              "      <td>2016-10-09</td>\n",
              "      <td>Indonesia</td>\n",
              "      <td>2-2</td>\n",
              "      <td>Maguwoharjo Stadium, Sleman</td>\n",
              "      <td>Friendly</td>\n",
              "      <td>A</td>\n",
              "      <td>2</td>\n",
              "      <td>2</td>\n",
              "    </tr>\n",
              "    <tr>\n",
              "      <th>61</th>\n",
              "      <td>2016-11-08</td>\n",
              "      <td>Indonesia</td>\n",
              "      <td>3-2</td>\n",
              "      <td>Mỹ Đình National Stadium, Hanoi</td>\n",
              "      <td>Friendly</td>\n",
              "      <td>H</td>\n",
              "      <td>3</td>\n",
              "      <td>2</td>\n",
              "    </tr>\n",
              "    <tr>\n",
              "      <th>67</th>\n",
              "      <td>2017-03-22</td>\n",
              "      <td>Chinese Taipei</td>\n",
              "      <td>1-1</td>\n",
              "      <td>Hàng Đẫy Stadium, Hanoi</td>\n",
              "      <td>Friendly</td>\n",
              "      <td>H</td>\n",
              "      <td>1</td>\n",
              "      <td>1</td>\n",
              "    </tr>\n",
              "    <tr>\n",
              "      <th>82</th>\n",
              "      <td>2018-12-25</td>\n",
              "      <td>North Korea</td>\n",
              "      <td>1-1</td>\n",
              "      <td>Mỹ Đình National Stadium, Hanoi</td>\n",
              "      <td>Friendly</td>\n",
              "      <td>H</td>\n",
              "      <td>1</td>\n",
              "      <td>1</td>\n",
              "    </tr>\n",
              "  </tbody>\n",
              "</table>\n",
              "</div>"
            ],
            "text/plain": [
              "         date        opponent score  \\\n",
              "5  2010-10-08           India   1-3   \n",
              "6  2010-10-12          Kuwait   1-3   \n",
              "19 2011-10-07           Japan   0-1   \n",
              "20 2012-06-08        China PR   0-3   \n",
              "21 2012-06-10       Hong Kong   2-1   \n",
              "22 2012-06-23      Mozambique   1-0   \n",
              "23 2012-09-11        Malaysia   2-0   \n",
              "24 2012-09-15       Indonesia   0-0   \n",
              "25 2012-10-16       Indonesia   0-0   \n",
              "29 2012-11-03        Malaysia   1-0   \n",
              "35 2013-10-09           Qatar   2-1   \n",
              "40 2014-07-02         Myanmar   6-0   \n",
              "41 2014-09-06       Hong Kong   3-1   \n",
              "42 2014-11-09       Palestine   1-3   \n",
              "43 2014-11-16        Malaysia   3-1   \n",
              "49 2015-05-17     North Korea   1-1   \n",
              "56 2016-05-31           Syria   2-0   \n",
              "59 2016-10-06     North Korea   5-2   \n",
              "60 2016-10-09       Indonesia   2-2   \n",
              "61 2016-11-08       Indonesia   3-2   \n",
              "67 2017-03-22  Chinese Taipei   1-1   \n",
              "82 2018-12-25     North Korea   1-1   \n",
              "\n",
              "                                                venue competition venue_type  \\\n",
              "5                                               India    Friendly          A   \n",
              "6   Jaber Al-Ahmad International Stadium, Kuwait City    Friendly          A   \n",
              "19                                              Japan    Friendly          A   \n",
              "20                 Wuhan Sports Centre Stadium, Wuhan    Friendly          A   \n",
              "21                          Mong Kok Stadium, Kowloon    Friendly          A   \n",
              "22               Thống Nhất Stadium, Ho Chi Minh City    Friendly          H   \n",
              "23                       Shah Alam Stadium, Shah Alam    Friendly          A   \n",
              "24                 Gelora Bung Tomo Stadium, Surabaya    Friendly          A   \n",
              "25                    Mỹ Đình National Stadium, Hanoi    Friendly          H   \n",
              "29                    Mỹ Đình National Stadium, Hanoi    Friendly          H   \n",
              "35                     Thani bin Jassim Stadium, Doha    Friendly          A   \n",
              "40                         Gò Đậu Stadium, Bình Dương    Friendly          H   \n",
              "41                       Lạch Tray Stadium, Hải Phòng    Friendly          H   \n",
              "42                    Mỹ Đình National Stadium, Hanoi    Friendly          H   \n",
              "43                    Mỹ Đình National Stadium, Hanoi    Friendly          H   \n",
              "49                    Mỹ Đình National Stadium, Hanoi    Friendly          H   \n",
              "56                    Mỹ Đình National Stadium, Hanoi    Friendly          H   \n",
              "59               Thống Nhất Stadium, Ho Chi Minh City    Friendly          H   \n",
              "60                        Maguwoharjo Stadium, Sleman    Friendly          A   \n",
              "61                    Mỹ Đình National Stadium, Hanoi    Friendly          H   \n",
              "67                            Hàng Đẫy Stadium, Hanoi    Friendly          H   \n",
              "82                    Mỹ Đình National Stadium, Hanoi    Friendly          H   \n",
              "\n",
              "    goal  conceded_goal  \n",
              "5      1              3  \n",
              "6      1              3  \n",
              "19     0              1  \n",
              "20     0              3  \n",
              "21     2              1  \n",
              "22     1              0  \n",
              "23     2              0  \n",
              "24     0              0  \n",
              "25     0              0  \n",
              "29     1              0  \n",
              "35     2              1  \n",
              "40     6              0  \n",
              "41     3              1  \n",
              "42     1              3  \n",
              "43     3              1  \n",
              "49     1              1  \n",
              "56     2              0  \n",
              "59     5              2  \n",
              "60     2              2  \n",
              "61     3              2  \n",
              "67     1              1  \n",
              "82     1              1  "
            ]
          },
          "execution_count": 13,
          "metadata": {},
          "output_type": "execute_result"
        }
      ],
      "source": [
        "data_friendly = data[data.competition.str.find('Friendly') != -1]\n",
        "data_friendly"
      ]
    },
    {
      "cell_type": "markdown",
      "metadata": {
        "id": "WpJ0QexTbADj"
      },
      "source": [
        "**Question 12**: Calculate the win rate of the Vietnamese Team in friendly matches."
      ]
    },
    {
      "cell_type": "code",
      "execution_count": 14,
      "metadata": {
        "colab": {
          "base_uri": "https://localhost:8080/"
        },
        "id": "yYztAH2gbLOq",
        "outputId": "a1a3f0cc-d8d4-48e6-80c3-40305165de30"
      },
      "outputs": [
        {
          "name": "stdout",
          "output_type": "stream",
          "text": [
            "Win rate: 50.00000000000001\n"
          ]
        }
      ],
      "source": [
        "win_friendly = 0\n",
        "for macth_friendly in range(data_friendly.shape[0]):\n",
        "  if data_friendly.iloc[macth_friendly].goal > data_friendly.iloc[macth_friendly].conceded_goal:\n",
        "    win_friendly = win_friendly + 1\n",
        "print('Win rate:' ,(100/data_friendly.shape[0])*win_friendly)"
      ]
    },
    {
      "cell_type": "markdown",
      "metadata": {
        "id": "fC74AQGGbY19"
      },
      "source": [
        "**Question 13**: Average number of goals conceded in **non** friendly matches."
      ]
    },
    {
      "cell_type": "code",
      "execution_count": 15,
      "metadata": {
        "colab": {
          "base_uri": "https://localhost:8080/"
        },
        "id": "cxwCmuHWbkrX",
        "outputId": "bf06708b-a95c-4bf2-ad61-c8df59f1a4d8"
      },
      "outputs": [
        {
          "name": "stdout",
          "output_type": "stream",
          "text": [
            "Lose rate: 31.506849315068493\n"
          ]
        }
      ],
      "source": [
        "data_not_friend = data[data.competition.str.find('Friendly') == -1]\n",
        "lost = 0\n",
        "for macth_lost in range(data_not_friend.shape[0]):\n",
        "  if data_not_friend.iloc[macth_lost].goal < data_not_friend.iloc[macth_lost].conceded_goal:\n",
        "    lost = lost + 1\n",
        "print('Lose rate:' ,(100/data_not_friend.shape[0])*lost)"
      ]
    }
  ],
  "metadata": {
    "colab": {
      "provenance": []
    },
    "kernelspec": {
      "display_name": "Python 3",
      "name": "python3"
    },
    "language_info": {
      "codemirror_mode": {
        "name": "ipython",
        "version": 3
      },
      "file_extension": ".py",
      "mimetype": "text/x-python",
      "name": "python",
      "nbconvert_exporter": "python",
      "pygments_lexer": "ipython3",
      "version": "3.11.7"
    }
  },
  "nbformat": 4,
  "nbformat_minor": 0
}
