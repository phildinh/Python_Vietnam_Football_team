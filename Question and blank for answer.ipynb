{
  "cells": [
    {
      "cell_type": "markdown",
      "metadata": {
        "id": "PJd2HaNDzDn5"
      },
      "source": [
        "# Introduce\n",
        "In this article, we will perform some analysis on the performance data of the Vietnam National Team from 2010 - 2019 (only counting official matches within the framework of FIFA)."
      ]
    },
    {
      "cell_type": "markdown",
      "metadata": {
        "id": "SOFd-NeRzcfX"
      },
      "source": [
        "#Data\n",
        "Data for this article is taken from [wiki page](https://en.wikipedia.org/wiki/Vietnam_national_football_team_results)\n",
        "\n",
        "Data includes columns:\n",
        "- `date` : date of the match.\n",
        "- `opponent`: opponent of the Vietnamese team.\n",
        "- `score`: match score (only counted within 90 minutes of official competition). The number of goals scored by the Vietnamese team is always written first.\n",
        "- `venue`: venue for the match.\n",
        "- `venue_type` : position of Vietnam Team\n",
        "     - `H`: kick at home.\n",
        "     - `A`: away match.\n",
        "     - `N`: kick on neutral ground.\n",
        "- `competition`: tournament in which the Vietnamese Team participates."
      ]
    },
    {
      "cell_type": "markdown",
      "metadata": {
        "id": "E0VeYIKm1j0w"
      },
      "source": [
        "# Exercise"
      ]
    },
    {
      "cell_type": "markdown",
      "metadata": {
        "id": "iTQJ33kC1mry"
      },
      "source": [
        "**Question 1** : Read data into `DataFrame`."
      ]
    },
    {
      "cell_type": "code",
      "execution_count": null,
      "metadata": {
        "colab": {
          "base_uri": "https://localhost:8080/",
          "height": 423
        },
        "id": "atfWBNCpy4YO",
        "outputId": "b9a671ba-5449-48fc-9dc3-3618a390bba0"
      },
      "outputs": [],
      "source": []
    },
    {
      "cell_type": "markdown",
      "metadata": {
        "id": "o1lN-U1o1ymq"
      },
      "source": [
        "**Question 2**: Check the data types of the columns and make the necessary conversions."
      ]
    },
    {
      "cell_type": "code",
      "execution_count": null,
      "metadata": {
        "colab": {
          "base_uri": "https://localhost:8080/"
        },
        "id": "rO0WKvMo2DOs",
        "outputId": "ac25de2a-e7da-4885-fb25-eba070d4e8a7"
      },
      "outputs": [],
      "source": []
    },
    {
      "cell_type": "markdown",
      "metadata": {
        "id": "qNFzFnM02D_0"
      },
      "source": [
        "**Question 3**: How many matches did the Vietnamese team play in the period 2010 - 2019, including how many matches were played at home, away and neutral stadiums."
      ]
    },
    {
      "cell_type": "code",
      "execution_count": null,
      "metadata": {
        "colab": {
          "base_uri": "https://localhost:8080/"
        },
        "id": "QfzoKk_52nIR",
        "outputId": "fa56228f-cf3a-404d-b5d1-598ceca59bab"
      },
      "outputs": [],
      "source": []
    },
    {
      "cell_type": "markdown",
      "metadata": {
        "id": "4eMA7ONKbzfk"
      },
      "source": [
        "**Question 4**: In home matches, how many different locations does the Vietnamese Team play at? Print out those locations."
      ]
    },
    {
      "cell_type": "code",
      "execution_count": null,
      "metadata": {
        "colab": {
          "base_uri": "https://localhost:8080/"
        },
        "id": "K8tBI4B0cFi2",
        "outputId": "6124105f-dfad-4a9e-cea8-880a37b36402"
      },
      "outputs": [],
      "source": []
    },
    {
      "cell_type": "markdown",
      "metadata": {
        "id": "ldILiLfu2pK5"
      },
      "source": [
        "**Question 5**: On average, how many matches does the Vietnamese team play each year?"
      ]
    },
    {
      "cell_type": "code",
      "execution_count": null,
      "metadata": {
        "colab": {
          "base_uri": "https://localhost:8080/"
        },
        "id": "vTD3I19329w8",
        "outputId": "946cca04-3f0c-4aa5-eec6-32fe92c21fc0"
      },
      "outputs": [],
      "source": []
    },
    {
      "cell_type": "markdown",
      "metadata": {
        "id": "qq7gFZWi2-ug"
      },
      "source": [
        "**Question 6**: Print out the number of matches the Vietnamese team played in 2015."
      ]
    },
    {
      "cell_type": "code",
      "execution_count": null,
      "metadata": {
        "colab": {
          "base_uri": "https://localhost:8080/"
        },
        "id": "TEZVo3m13JDY",
        "outputId": "4f273306-fd63-49ec-8d59-43af0cf2a14f"
      },
      "outputs": [],
      "source": []
    },
    {
      "cell_type": "markdown",
      "metadata": {
        "id": "PAY9ZZ9VWhQ0"
      },
      "source": [
        "**Question 7**: From the `score` column, create two new columns:\n",
        "- `goal`: number of goals scored by the Vietnamese team.\n",
        "- `conceded_goal`: number of goals conceded by the Vietnamese Team.\n",
        "\n",
        "---\n",
        "_Hint_: use `.str.split('-')` to split the string from `score`."
      ]
    },
    {
      "cell_type": "code",
      "execution_count": null,
      "metadata": {
        "colab": {
          "base_uri": "https://localhost:8080/",
          "height": 467
        },
        "id": "cz124Qj8XOU_",
        "outputId": "5d87952f-a83f-4de9-bff6-22b955111f58"
      },
      "outputs": [],
      "source": []
    },
    {
      "cell_type": "markdown",
      "metadata": {
        "id": "G2R-61yoXToO"
      },
      "source": [
        "**Question 8**: Print out the matches in which the Vietnamese team scored the most goals?"
      ]
    },
    {
      "cell_type": "code",
      "execution_count": null,
      "metadata": {
        "colab": {
          "base_uri": "https://localhost:8080/",
          "height": 112
        },
        "id": "WFXKGcKYXd8F",
        "outputId": "91887ba4-9a6f-4409-c49a-85902673eda9"
      },
      "outputs": [],
      "source": []
    },
    {
      "cell_type": "markdown",
      "metadata": {
        "id": "wY0dhqTvXfD7"
      },
      "source": [
        "**Question 9**: Calculate the average number of goals scored by the Vietnamese team. (Number of goals # Number of wins)"
      ]
    },
    {
      "cell_type": "code",
      "execution_count": null,
      "metadata": {
        "colab": {
          "base_uri": "https://localhost:8080/"
        },
        "id": "cMhtVsa_XuQo",
        "outputId": "eab69208-8eea-4fac-d080-6b499cc3988e"
      },
      "outputs": [],
      "source": []
    },
    {
      "cell_type": "markdown",
      "metadata": {
        "id": "8WjverVxXvDj"
      },
      "source": [
        "**Question 10**: Calculate the winning rate of the Vietnamese Team."
      ]
    },
    {
      "cell_type": "code",
      "execution_count": null,
      "metadata": {
        "colab": {
          "base_uri": "https://localhost:8080/"
        },
        "id": "V-WCvzV0X2vY",
        "outputId": "d21ebe3f-a044-4502-864d-ae732d94557d"
      },
      "outputs": [],
      "source": []
    },
    {
      "cell_type": "markdown",
      "metadata": {
        "id": "PYTaTwE_YBI-"
      },
      "source": [
        "**Question 11**: Select friendly matches during the above period. Know that friendly matches are recorded as `'Friendly'` in `competition`."
      ]
    },
    {
      "cell_type": "code",
      "execution_count": null,
      "metadata": {
        "colab": {
          "base_uri": "https://localhost:8080/",
          "height": 739
        },
        "id": "wz5-w_lcZvnm",
        "outputId": "0a1b1fd3-b151-46e8-a3b7-e70caa903db2"
      },
      "outputs": [],
      "source": []
    },
    {
      "cell_type": "markdown",
      "metadata": {
        "id": "WpJ0QexTbADj"
      },
      "source": [
        "**Question 12**: Calculate the win rate of the Vietnamese Team in friendly matches."
      ]
    },
    {
      "cell_type": "code",
      "execution_count": null,
      "metadata": {
        "colab": {
          "base_uri": "https://localhost:8080/"
        },
        "id": "yYztAH2gbLOq",
        "outputId": "a1a3f0cc-d8d4-48e6-80c3-40305165de30"
      },
      "outputs": [],
      "source": []
    },
    {
      "cell_type": "markdown",
      "metadata": {
        "id": "fC74AQGGbY19"
      },
      "source": [
        "**Question 13**: Average number of goals conceded in **non** friendly matches."
      ]
    },
    {
      "cell_type": "code",
      "execution_count": null,
      "metadata": {
        "colab": {
          "base_uri": "https://localhost:8080/"
        },
        "id": "cxwCmuHWbkrX",
        "outputId": "bf06708b-a95c-4bf2-ad61-c8df59f1a4d8"
      },
      "outputs": [],
      "source": []
    }
  ],
  "metadata": {
    "colab": {
      "provenance": []
    },
    "kernelspec": {
      "display_name": "Python 3",
      "name": "python3"
    },
    "language_info": {
      "codemirror_mode": {
        "name": "ipython",
        "version": 3
      },
      "file_extension": ".py",
      "mimetype": "text/x-python",
      "name": "python",
      "nbconvert_exporter": "python",
      "pygments_lexer": "ipython3",
      "version": "3.11.3"
    }
  },
  "nbformat": 4,
  "nbformat_minor": 0
}
